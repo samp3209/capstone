{
  "cells": [
    {
      "cell_type": "markdown",
      "metadata": {
        "colab_type": "text",
        "id": "view-in-github"
      },
      "source": [
        "<a href=\"https://colab.research.google.com/github/samp3209/capstone/blob/main/search_for_images.ipynb\" target=\"_parent\"><img src=\"https://colab.research.google.com/assets/colab-badge.svg\" alt=\"Open In Colab\"/></a>"
      ]
    },
    {
      "cell_type": "markdown",
      "metadata": {
        "id": "rMs1ARS3_JL-"
      },
      "source": [
        "# Imports\n"
      ]
    },
    {
      "cell_type": "code",
      "execution_count": 5,
      "metadata": {
        "colab": {
          "base_uri": "https://localhost:8080/",
          "height": 345
        },
        "id": "ZXKGaM4c2OSU",
        "outputId": "da3c496a-ed81-4550-e434-b28ce3557524"
      },
      "outputs": [
        {
          "ename": "MessageError",
          "evalue": "ignored",
          "output_type": "error",
          "traceback": [
            "\u001b[0;31m---------------------------------------------------------------------------\u001b[0m",
            "\u001b[0;31mMessageError\u001b[0m                              Traceback (most recent call last)",
            "\u001b[0;32m<ipython-input-5-119b28645a85>\u001b[0m in \u001b[0;36m<cell line: 3>\u001b[0;34m()\u001b[0m\n\u001b[1;32m      1\u001b[0m \u001b[0;31m#Link google drive\u001b[0m\u001b[0;34m\u001b[0m\u001b[0;34m\u001b[0m\u001b[0m\n\u001b[1;32m      2\u001b[0m \u001b[0;32mfrom\u001b[0m \u001b[0mgoogle\u001b[0m\u001b[0;34m.\u001b[0m\u001b[0mcolab\u001b[0m \u001b[0;32mimport\u001b[0m \u001b[0mdrive\u001b[0m\u001b[0;34m\u001b[0m\u001b[0;34m\u001b[0m\u001b[0m\n\u001b[0;32m----> 3\u001b[0;31m \u001b[0mdrive\u001b[0m\u001b[0;34m.\u001b[0m\u001b[0mmount\u001b[0m\u001b[0;34m(\u001b[0m\u001b[0;34m'/content/drive'\u001b[0m\u001b[0;34m)\u001b[0m\u001b[0;34m\u001b[0m\u001b[0;34m\u001b[0m\u001b[0m\n\u001b[0m",
            "\u001b[0;32m/usr/local/lib/python3.9/dist-packages/google/colab/drive.py\u001b[0m in \u001b[0;36mmount\u001b[0;34m(mountpoint, force_remount, timeout_ms, readonly)\u001b[0m\n\u001b[1;32m    101\u001b[0m \u001b[0;32mdef\u001b[0m \u001b[0mmount\u001b[0m\u001b[0;34m(\u001b[0m\u001b[0mmountpoint\u001b[0m\u001b[0;34m,\u001b[0m \u001b[0mforce_remount\u001b[0m\u001b[0;34m=\u001b[0m\u001b[0;32mFalse\u001b[0m\u001b[0;34m,\u001b[0m \u001b[0mtimeout_ms\u001b[0m\u001b[0;34m=\u001b[0m\u001b[0;36m120000\u001b[0m\u001b[0;34m,\u001b[0m \u001b[0mreadonly\u001b[0m\u001b[0;34m=\u001b[0m\u001b[0;32mFalse\u001b[0m\u001b[0;34m)\u001b[0m\u001b[0;34m:\u001b[0m\u001b[0;34m\u001b[0m\u001b[0;34m\u001b[0m\u001b[0m\n\u001b[1;32m    102\u001b[0m   \u001b[0;34m\"\"\"Mount your Google Drive at the specified mountpoint path.\"\"\"\u001b[0m\u001b[0;34m\u001b[0m\u001b[0;34m\u001b[0m\u001b[0m\n\u001b[0;32m--> 103\u001b[0;31m   return _mount(\n\u001b[0m\u001b[1;32m    104\u001b[0m       \u001b[0mmountpoint\u001b[0m\u001b[0;34m,\u001b[0m\u001b[0;34m\u001b[0m\u001b[0;34m\u001b[0m\u001b[0m\n\u001b[1;32m    105\u001b[0m       \u001b[0mforce_remount\u001b[0m\u001b[0;34m=\u001b[0m\u001b[0mforce_remount\u001b[0m\u001b[0;34m,\u001b[0m\u001b[0;34m\u001b[0m\u001b[0;34m\u001b[0m\u001b[0m\n",
            "\u001b[0;32m/usr/local/lib/python3.9/dist-packages/google/colab/drive.py\u001b[0m in \u001b[0;36m_mount\u001b[0;34m(mountpoint, force_remount, timeout_ms, ephemeral, readonly)\u001b[0m\n\u001b[1;32m    130\u001b[0m   )\n\u001b[1;32m    131\u001b[0m   \u001b[0;32mif\u001b[0m \u001b[0mephemeral\u001b[0m\u001b[0;34m:\u001b[0m\u001b[0;34m\u001b[0m\u001b[0;34m\u001b[0m\u001b[0m\n\u001b[0;32m--> 132\u001b[0;31m     _message.blocking_request(\n\u001b[0m\u001b[1;32m    133\u001b[0m         \u001b[0;34m'request_auth'\u001b[0m\u001b[0;34m,\u001b[0m \u001b[0mrequest\u001b[0m\u001b[0;34m=\u001b[0m\u001b[0;34m{\u001b[0m\u001b[0;34m'authType'\u001b[0m\u001b[0;34m:\u001b[0m \u001b[0;34m'dfs_ephemeral'\u001b[0m\u001b[0;34m}\u001b[0m\u001b[0;34m,\u001b[0m \u001b[0mtimeout_sec\u001b[0m\u001b[0;34m=\u001b[0m\u001b[0;32mNone\u001b[0m\u001b[0;34m\u001b[0m\u001b[0;34m\u001b[0m\u001b[0m\n\u001b[1;32m    134\u001b[0m     )\n",
            "\u001b[0;32m/usr/local/lib/python3.9/dist-packages/google/colab/_message.py\u001b[0m in \u001b[0;36mblocking_request\u001b[0;34m(request_type, request, timeout_sec, parent)\u001b[0m\n\u001b[1;32m    174\u001b[0m       \u001b[0mrequest_type\u001b[0m\u001b[0;34m,\u001b[0m \u001b[0mrequest\u001b[0m\u001b[0;34m,\u001b[0m \u001b[0mparent\u001b[0m\u001b[0;34m=\u001b[0m\u001b[0mparent\u001b[0m\u001b[0;34m,\u001b[0m \u001b[0mexpect_reply\u001b[0m\u001b[0;34m=\u001b[0m\u001b[0;32mTrue\u001b[0m\u001b[0;34m\u001b[0m\u001b[0;34m\u001b[0m\u001b[0m\n\u001b[1;32m    175\u001b[0m   )\n\u001b[0;32m--> 176\u001b[0;31m   \u001b[0;32mreturn\u001b[0m \u001b[0mread_reply_from_input\u001b[0m\u001b[0;34m(\u001b[0m\u001b[0mrequest_id\u001b[0m\u001b[0;34m,\u001b[0m \u001b[0mtimeout_sec\u001b[0m\u001b[0;34m)\u001b[0m\u001b[0;34m\u001b[0m\u001b[0;34m\u001b[0m\u001b[0m\n\u001b[0m",
            "\u001b[0;32m/usr/local/lib/python3.9/dist-packages/google/colab/_message.py\u001b[0m in \u001b[0;36mread_reply_from_input\u001b[0;34m(message_id, timeout_sec)\u001b[0m\n\u001b[1;32m    101\u001b[0m     ):\n\u001b[1;32m    102\u001b[0m       \u001b[0;32mif\u001b[0m \u001b[0;34m'error'\u001b[0m \u001b[0;32min\u001b[0m \u001b[0mreply\u001b[0m\u001b[0;34m:\u001b[0m\u001b[0;34m\u001b[0m\u001b[0;34m\u001b[0m\u001b[0m\n\u001b[0;32m--> 103\u001b[0;31m         \u001b[0;32mraise\u001b[0m \u001b[0mMessageError\u001b[0m\u001b[0;34m(\u001b[0m\u001b[0mreply\u001b[0m\u001b[0;34m[\u001b[0m\u001b[0;34m'error'\u001b[0m\u001b[0;34m]\u001b[0m\u001b[0;34m)\u001b[0m\u001b[0;34m\u001b[0m\u001b[0;34m\u001b[0m\u001b[0m\n\u001b[0m\u001b[1;32m    104\u001b[0m       \u001b[0;32mreturn\u001b[0m \u001b[0mreply\u001b[0m\u001b[0;34m.\u001b[0m\u001b[0mget\u001b[0m\u001b[0;34m(\u001b[0m\u001b[0;34m'data'\u001b[0m\u001b[0;34m,\u001b[0m \u001b[0;32mNone\u001b[0m\u001b[0;34m)\u001b[0m\u001b[0;34m\u001b[0m\u001b[0;34m\u001b[0m\u001b[0m\n\u001b[1;32m    105\u001b[0m \u001b[0;34m\u001b[0m\u001b[0m\n",
            "\u001b[0;31mMessageError\u001b[0m: Error: credential propagation was unsuccessful"
          ]
        }
      ],
      "source": [
        "#Link google drive\n",
        "from google.colab import drive\n",
        "drive.mount('/content/drive')"
      ]
    },
    {
      "cell_type": "code",
      "execution_count": null,
      "metadata": {
        "id": "o-in8iBVg8__"
      },
      "outputs": [],
      "source": [
        "#Imports, data retrieval, data transformation \n",
        "import os\n",
        "import re\n",
        "\n",
        "def get_word_set(text):\n",
        "  #gets rid of unneccassry characters and creates a word set\n",
        "    text = text.replace('png', ' ')\n",
        "    text = re.sub(r'\\W+', ' ', text.lower())\n",
        "    word_set = set(text.split())\n",
        "    print(word_set)\n",
        "    return word_set\n",
        "\n",
        "# path to images\n",
        "folder_path = '/content/drive/MyDrive/MassOutput/Test/'\n",
        "\n",
        "file_names = []\n",
        "\n",
        "#extracts all files with image extensions\n",
        "for filename in os.listdir(folder_path):\n",
        "    if filename.endswith(('.jpg', '.jpeg', '.png')):\n",
        "        file_names.append(filename)\n"
      ]
    },
    {
      "cell_type": "markdown",
      "metadata": {
        "id": "FROP68R2_MqI"
      },
      "source": [
        "# Query"
      ]
    },
    {
      "cell_type": "code",
      "execution_count": null,
      "metadata": {
        "id": "GskwHXTOiLbY"
      },
      "outputs": [],
      "source": [
        "#Define the query\n",
        "query = 'chauncey the beaver baseball' #@param {type:\"string\"}"
      ]
    },
    {
      "cell_type": "markdown",
      "metadata": {
        "id": "Pu7mMfIT9-fb"
      },
      "source": [
        "# Not so good search function\n"
      ]
    },
    {
      "cell_type": "code",
      "execution_count": null,
      "metadata": {
        "colab": {
          "base_uri": "https://localhost:8080/"
        },
        "id": "ai-ui92_cX-M",
        "outputId": "a0e0253f-771d-4323-bf40-e5630eb67b0e"
      },
      "outputs": [
        {
          "name": "stdout",
          "output_type": "stream",
          "text": [
            "{'chauncey', 'the', 'beaver', 'baseball'}\n",
            "{'at', 'computer', 'looking', 'of', 'something', 's', 'screen', 'in', 'cartoon', 'the', 'beaver', 'he', 'chauncey', 'blue', 'like', 'front', 'holding'}\n",
            "{'reading', 'in', 'cartoon', 'the', 'beaver', 'chauncey', 'park', 'green'}\n",
            "{'motion', 'orange', 'in', 'and', 'cartoon', 'the', 'beaver', 'chauncey', 'playing', 'blue', 'baseball', 'on', 'field'}\n",
            "chauncey the beaver,cartoon,green,reading,reading,in park.png : 0.4166666666666667\n",
            "chauncey the beaver,cartoon,orange and blue,in motion,playing baseball,on field.png : 0.38461538461538464\n",
            "chauncey the beaver,cartoon,blue,like he's holding something,looking at computer screen,in front of computer screen.png : 0.20833333333333334\n"
          ]
        }
      ],
      "source": [
        "#Search function that outputs the most closely desired image based on caption\n",
        "query_word_set = get_word_set(query)\n",
        "\n",
        "scores = {}\n",
        "\n",
        "#loop through each file name and calculate the similarity score\n",
        "for file_name in file_names:\n",
        "    file_word_set = get_word_set(file_name)\n",
        "    intersection = query_word_set.intersection(file_word_set)\n",
        "    union = query_word_set.union(file_word_set)\n",
        "    numerator = len(intersection) + len(intersection)/len(query_word_set)\n",
        "    denominator = len(union)\n",
        "    if denominator != 0:\n",
        "        score = numerator / denominator\n",
        "    else:\n",
        "        score = 0.0\n",
        "    scores[file_name] = score\n",
        "    \n",
        "    #debugging\n",
        "    #print('file Info:', file_word_set)\n",
        "    #print('query Info:', query_word_set)\n",
        "    #print('untersection:', intersection)\n",
        "    #print('numerator:', numerator)\n",
        "    #print('union:', union)\n",
        "    #print('denominator:', denominator)\n",
        "    #print('similarity Score:', score)\n",
        "    \n",
        "\n",
        "for file_name, score in sorted(scores.items(), key=lambda x: x[1], reverse=True):\n",
        "    #sorts by \n",
        "    print(file_name, ':', score)"
      ]
    },
    {
      "cell_type": "markdown",
      "metadata": {
        "id": "1LFk0BnN95NP"
      },
      "source": [
        "# Good Search Function\n"
      ]
    },
    {
      "cell_type": "code",
      "execution_count": 15,
      "metadata": {
        "colab": {
          "base_uri": "https://localhost:8080/"
        },
        "id": "EtPqHdpJjhu4",
        "outputId": "5b67d4ec-a0bc-482e-b233-48cc79dac37b"
      },
      "outputs": [
        {
          "name": "stdout",
          "output_type": "stream",
          "text": [
            "chauncey the beaver,cartoon,orange and blue,in motion,playing baseball,on field.png: 0.4600\n"
          ]
        }
      ],
      "source": [
        "#Definitely using this search function\n",
        "#uses sklearn tfidf which searches for special words in the query and finds file names that have these rare words in them\n",
        "from sklearn.feature_extraction.text import TfidfVectorizer\n",
        "from sklearn.metrics.pairwise import cosine_similarity\n",
        "\n",
        "#file_names = [\n",
        "    #'chauncey the beaver,cartoon,green,reading,reading,in park.png',\n",
        "    #'chauncey the beaver,cartoon,orange and blue,in motion,playing baseball,on field.png',\n",
        "    #'chauncey the beaver,cartoon,blue,like he\\'s holding something,looking at computer screen,in front of computer screen.png'\n",
        "#]\n",
        "\n",
        "vectorizer = TfidfVectorizer()\n",
        "corpus = file_names\n",
        "tfidf_matrix = vectorizer.fit_transform(corpus)\n",
        "query_vector = vectorizer.transform([query])\n",
        "similarities = cosine_similarity(query_vector, tfidf_matrix)\n",
        "\n",
        "results = [(similarity, file_name) for similarity, file_name in zip(similarities[0], file_names)]\n",
        "results = sorted(results, key=lambda x: x[0], reverse=True)\n",
        "\n",
        "for similarity, file_name in results[:1]:\n",
        "  #prints the top match to query\n",
        "    print(f\"{file_name}: {similarity:.4f}\")\n",
        "\n",
        "\n"
      ]
    }
  ],
  "metadata": {
    "colab": {
      "include_colab_link": true,
      "provenance": [],
      "toc_visible": true
    },
    "kernelspec": {
      "display_name": "Python 3",
      "name": "python3"
    },
    "language_info": {
      "name": "python"
    }
  },
  "nbformat": 4,
  "nbformat_minor": 0
}
