{
  "nbformat": 4,
  "nbformat_minor": 0,
  "metadata": {
    "colab": {
      "provenance": [],
      "authorship_tag": "ABX9TyOEqkXl5C5G1i7TYwFz2RKh",
      "include_colab_link": true
    },
    "kernelspec": {
      "name": "python3",
      "display_name": "Python 3"
    },
    "language_info": {
      "name": "python"
    }
  },
  "cells": [
    {
      "cell_type": "markdown",
      "metadata": {
        "id": "view-in-github",
        "colab_type": "text"
      },
      "source": [
        "<a href=\"https://colab.research.google.com/github/samp3209/capstone/blob/main/search_for_images.ipynb\" target=\"_parent\"><img src=\"https://colab.research.google.com/assets/colab-badge.svg\" alt=\"Open In Colab\"/></a>"
      ]
    },
    {
      "cell_type": "code",
      "execution_count": 1,
      "metadata": {
        "colab": {
          "base_uri": "https://localhost:8080/"
        },
        "id": "ZXKGaM4c2OSU",
        "outputId": "21d7ae06-de16-4b2a-dfb1-0c43413716c0"
      },
      "outputs": [
        {
          "output_type": "stream",
          "name": "stdout",
          "text": [
            "Mounted at /content/drive\n"
          ]
        }
      ],
      "source": [
        "#Link google drive\n",
        "from google.colab import drive\n",
        "drive.mount('/content/drive')"
      ]
    },
    {
      "cell_type": "code",
      "source": [
        "import os\n",
        "\n",
        "# Define the path of the folder containing the images\n",
        "folder_path = '/content/drive/MyDrive/MassOutput/Test/'\n",
        "\n",
        "# Create an empty list to store the file names of the images\n",
        "file_names = []\n",
        "\n",
        "# Loop through all the files in the folder\n",
        "for filename in os.listdir(folder_path):\n",
        "    # Check if the file is an image (ends with .jpg, .jpeg, or .png)\n",
        "    if filename.endswith(('.jpg', '.jpeg', '.png')):\n",
        "        # Get the file name of the image without the folder path\n",
        "        file_name = os.path.basename(filename)\n",
        "        # Append the file name to the list\n",
        "        file_names.append(file_name)\n",
        "\n",
        "# Print the file names of the images\n",
        "print(file_names)"
      ],
      "metadata": {
        "colab": {
          "base_uri": "https://localhost:8080/"
        },
        "id": "vFmYEUaC2gQX",
        "outputId": "bfca145e-581a-400e-eb3a-3f3663af8a24"
      },
      "execution_count": 3,
      "outputs": [
        {
          "output_type": "stream",
          "name": "stdout",
          "text": [
            "[\"chauncey the beaver,cartoon,blue,like he's holding something,looking at computer screen,in front of computer screen.png\", 'chauncey the beaver,cartoon,green,reading,reading,in park.png', 'chauncey the beaver,cartoon,orange and blue,in motion,playing baseball,on field.png']\n"
          ]
        }
      ]
    },
    {
      "cell_type": "code",
      "source": [
        "import os\n",
        "from collections import defaultdict\n",
        "\n",
        "# Define the path of the folder containing the images\n",
        "folder_path = '/content/drive/MyDrive/MassOutput/Test/'\n",
        "\n",
        "# Create a dictionary to store the file names and their descriptions\n",
        "file_descriptions = defaultdict(str)\n",
        "\n",
        "# Loop through all the files in the folder\n",
        "for filename in os.listdir(folder_path):\n",
        "    # Check if the file is an image (ends with .jpg, .jpeg, or .png)\n",
        "    if filename.endswith(('.jpg', '.jpeg', '.png')):\n",
        "        # Get the file name of the image without the folder path\n",
        "        file_name = os.path.basename(filename)\n",
        "        # Append the file name and description to the dictionary\n",
        "        file_descriptions[file_name] = file_name.split('.')[0].split(', ')\n",
        "\n",
        "# Define a function to calculate the Jaccard similarity between two sets\n",
        "def jaccard_similarity(a, b):\n",
        "    intersection = len(set(a).intersection(set(b)))\n",
        "    union = len(set(a).union(set(b)))\n",
        "    return intersection / union\n",
        "\n",
        "# Define a query\n",
        "query = 'chauncey'\n",
        "\n",
        "# Create a dictionary to store the similarity scores of the files\n",
        "similarity_scores = {}\n",
        "\n",
        "# Loop through all the files in the dictionary\n",
        "for file_name, file_description in file_descriptions.items():\n",
        "    # Calculate the Jaccard similarity between the query and the file description\n",
        "    similarity_scores[file_name] = jaccard_similarity(set(query.split()), set(file_description))\n",
        "\n",
        "# Sort the files by their similarity scores in descending order\n",
        "sorted_files = sorted(similarity_scores.items(), key=lambda x: x[1], reverse=True)\n",
        "\n",
        "# Print the top 3 files and their similarity scores\n",
        "for file_name, score in sorted_files[:3]:\n",
        "    print(file_name, ':', score)"
      ],
      "metadata": {
        "colab": {
          "base_uri": "https://localhost:8080/"
        },
        "id": "dCZVVHzS5Uc_",
        "outputId": "1bd35bff-91ff-40d1-bdb2-b55a606ea04d"
      },
      "execution_count": 13,
      "outputs": [
        {
          "output_type": "stream",
          "name": "stdout",
          "text": [
            "chauncey the beaver,cartoon,blue,like he's holding something,looking at computer screen,in front of computer screen.png : 0.0\n",
            "chauncey the beaver,cartoon,green,reading,reading,in park.png : 0.0\n",
            "chauncey the beaver,cartoon,orange and blue,in motion,playing baseball,on field.png : 0.0\n"
          ]
        }
      ]
    },
    {
      "cell_type": "code",
      "source": [],
      "metadata": {
        "id": "omQQmIVn5dUC"
      },
      "execution_count": null,
      "outputs": []
    }
  ]
}