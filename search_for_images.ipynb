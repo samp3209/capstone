{
  "nbformat": 4,
  "nbformat_minor": 0,
  "metadata": {
    "colab": {
      "provenance": [],
      "authorship_tag": "ABX9TyNd6CutYiUaOdhqFbI8lJMh",
      "include_colab_link": true
    },
    "kernelspec": {
      "name": "python3",
      "display_name": "Python 3"
    },
    "language_info": {
      "name": "python"
    }
  },
  "cells": [
    {
      "cell_type": "markdown",
      "metadata": {
        "id": "view-in-github",
        "colab_type": "text"
      },
      "source": [
        "<a href=\"https://colab.research.google.com/github/samp3209/capstone/blob/main/search_for_images.ipynb\" target=\"_parent\"><img src=\"https://colab.research.google.com/assets/colab-badge.svg\" alt=\"Open In Colab\"/></a>"
      ]
    },
    {
      "cell_type": "code",
      "execution_count": 1,
      "metadata": {
        "colab": {
          "base_uri": "https://localhost:8080/"
        },
        "id": "ZXKGaM4c2OSU",
        "outputId": "a8e0e5d0-61ff-4cb8-ca68-c2fc6a37af90"
      },
      "outputs": [
        {
          "output_type": "stream",
          "name": "stdout",
          "text": [
            "Drive already mounted at /content/drive; to attempt to forcibly remount, call drive.mount(\"/content/drive\", force_remount=True).\n"
          ]
        }
      ],
      "source": [
        "#Link google drive\n",
        "from google.colab import drive\n",
        "drive.mount('/content/drive')"
      ]
    },
    {
      "cell_type": "code",
      "source": [
        "#Imports, data retrieval, data transformation \n",
        "import os\n",
        "import re\n",
        "\n",
        "def get_word_set(text):\n",
        "    text = text.replace('png', ' ')\n",
        "    text = re.sub(r'\\W+', ' ', text.lower())\n",
        "    word_set = set(text.split())\n",
        "    print(word_set)\n",
        "    return word_set\n",
        "\n",
        "# path to images\n",
        "folder_path = '/content/drive/MyDrive/MassOutput/Test/'\n",
        "\n",
        "file_names = []\n",
        "\n",
        "for filename in os.listdir(folder_path):\n",
        "    if filename.endswith(('.jpg', '.jpeg', '.png')):\n",
        "        file_names.append(filename)\n"
      ],
      "metadata": {
        "id": "o-in8iBVg8__"
      },
      "execution_count": 10,
      "outputs": []
    },
    {
      "cell_type": "code",
      "source": [
        "# Define the query\n",
        "query = 'chauncey the beaver baseball'"
      ],
      "metadata": {
        "id": "GskwHXTOiLbY"
      },
      "execution_count": 24,
      "outputs": []
    },
    {
      "cell_type": "code",
      "source": [
        "#Search function that outputs the most closely desired image based on caption\n",
        "query_word_set = get_word_set(query)\n",
        "\n",
        "scores = {}\n",
        "\n",
        "# Loop through each file name and calculate the similarity score\n",
        "for file_name in file_names:\n",
        "    file_word_set = get_word_set(file_name)\n",
        "    intersection = query_word_set.intersection(file_word_set)\n",
        "    union = query_word_set.union(file_word_set)\n",
        "    numerator = len(intersection) + len(intersection)/len(query_word_set)\n",
        "    denominator = len(union)\n",
        "    if denominator != 0:\n",
        "        score = numerator / denominator\n",
        "    else:\n",
        "        score = 0.0\n",
        "    scores[file_name] = score\n",
        "    \n",
        "    #debugging\n",
        "    #print('file Info:', file_word_set)\n",
        "    #print('query Info:', query_word_set)\n",
        "    #print('untersection:', intersection)\n",
        "    #print('numerator:', numerator)\n",
        "    #print('union:', union)\n",
        "    #print('denominator:', denominator)\n",
        "    #print('similarity Score:', score)\n",
        "    \n",
        "\n",
        "for file_name, score in sorted(scores.items(), key=lambda x: x[1], reverse=True):\n",
        "    print(file_name, ':', score)"
      ],
      "metadata": {
        "colab": {
          "base_uri": "https://localhost:8080/"
        },
        "id": "ai-ui92_cX-M",
        "outputId": "a0e0253f-771d-4323-bf40-e5630eb67b0e"
      },
      "execution_count": 25,
      "outputs": [
        {
          "output_type": "stream",
          "name": "stdout",
          "text": [
            "{'chauncey', 'the', 'beaver', 'baseball'}\n",
            "{'at', 'computer', 'looking', 'of', 'something', 's', 'screen', 'in', 'cartoon', 'the', 'beaver', 'he', 'chauncey', 'blue', 'like', 'front', 'holding'}\n",
            "{'reading', 'in', 'cartoon', 'the', 'beaver', 'chauncey', 'park', 'green'}\n",
            "{'motion', 'orange', 'in', 'and', 'cartoon', 'the', 'beaver', 'chauncey', 'playing', 'blue', 'baseball', 'on', 'field'}\n",
            "chauncey the beaver,cartoon,green,reading,reading,in park.png : 0.4166666666666667\n",
            "chauncey the beaver,cartoon,orange and blue,in motion,playing baseball,on field.png : 0.38461538461538464\n",
            "chauncey the beaver,cartoon,blue,like he's holding something,looking at computer screen,in front of computer screen.png : 0.20833333333333334\n"
          ]
        }
      ]
    },
    {
      "cell_type": "code",
      "source": [
        "#Definitely using this search function\n",
        "import os\n",
        "import re\n",
        "from sklearn.feature_extraction.text import TfidfVectorizer\n",
        "from sklearn.metrics.pairwise import cosine_similarity\n",
        "\n",
        "# File names\n",
        "file_names = [\n",
        "    'chauncey the beaver,cartoon,green,reading,reading,in park.png',\n",
        "    'chauncey the beaver,cartoon,orange and blue,in motion,playing baseball,on field.png',\n",
        "    'chauncey the beaver,cartoon,blue,like he\\'s holding something,looking at computer screen,in front of computer screen.png'\n",
        "]\n",
        "\n",
        "# Define the query\n",
        "query = 'chauncey the beaver baseball'\n",
        "\n",
        "vectorizer = TfidfVectorizer()\n",
        "\n",
        "corpus = file_names\n",
        "\n",
        "tfidf_matrix = vectorizer.fit_transform(corpus)\n",
        "\n",
        "query_vector = vectorizer.transform([query])\n",
        "\n",
        "similarities = cosine_similarity(query_vector, tfidf_matrix)\n",
        "\n",
        "results = [(similarity, file_name) for similarity, file_name in zip(similarities[0], file_names)]\n",
        "results = sorted(results, key=lambda x: x[0], reverse=True)\n",
        "\n",
        "for similarity, file_name in results:\n",
        "    print(f\"{file_name}: {similarity:.4f}\")"
      ],
      "metadata": {
        "colab": {
          "base_uri": "https://localhost:8080/"
        },
        "id": "EtPqHdpJjhu4",
        "outputId": "4ef5b501-05e0-4902-895c-f2418d8d9b83"
      },
      "execution_count": 26,
      "outputs": [
        {
          "output_type": "stream",
          "name": "stdout",
          "text": [
            "chauncey the beaver,cartoon,orange and blue,in motion,playing baseball,on field.png: 0.4600\n",
            "chauncey the beaver,cartoon,green,reading,reading,in park.png: 0.2571\n",
            "chauncey the beaver,cartoon,blue,like he's holding something,looking at computer screen,in front of computer screen.png: 0.1693\n"
          ]
        }
      ]
    }
  ]
}